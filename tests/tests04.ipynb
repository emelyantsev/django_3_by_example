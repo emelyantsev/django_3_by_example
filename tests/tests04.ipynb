{
 "cells": [
  {
   "cell_type": "code",
   "execution_count": 1,
   "metadata": {},
   "outputs": [],
   "source": [
    "import requests"
   ]
  },
  {
   "cell_type": "code",
   "execution_count": null,
   "metadata": {},
   "outputs": [],
   "source": []
  },
  {
   "cell_type": "code",
   "execution_count": 2,
   "metadata": {},
   "outputs": [],
   "source": [
    "base_url = 'http://127.0.0.1:8000/api/'"
   ]
  },
  {
   "cell_type": "code",
   "execution_count": 3,
   "metadata": {},
   "outputs": [],
   "source": [
    "r = requests.get(f'{base_url}courses/')"
   ]
  },
  {
   "cell_type": "code",
   "execution_count": 4,
   "metadata": {},
   "outputs": [
    {
     "data": {
      "text/plain": [
       "[{'id': 4,\n",
       "  'subject': 4,\n",
       "  'title': 'Django course',\n",
       "  'slug': 'django-course',\n",
       "  'overview': 'Entry-level course for everybody with basic programming skills.',\n",
       "  'created': '2020-09-08T09:20:40.623436Z',\n",
       "  'owner': 2,\n",
       "  'modules': [{'order': 0,\n",
       "    'title': 'Introduction',\n",
       "    'description': 'Review of django framework'},\n",
       "   {'order': 1, 'title': 'urls', 'description': 'django urls functionality'}]},\n",
       " {'id': 2,\n",
       "  'subject': 4,\n",
       "  'title': 'Course 2',\n",
       "  'slug': 'course2',\n",
       "  'overview': '',\n",
       "  'created': '2020-09-01T09:01:18.471271Z',\n",
       "  'owner': 1,\n",
       "  'modules': [{'order': 0, 'title': 'Module 1', 'description': ''}]},\n",
       " {'id': 1,\n",
       "  'subject': 4,\n",
       "  'title': 'Course 1',\n",
       "  'slug': 'course1',\n",
       "  'overview': '',\n",
       "  'created': '2020-09-01T08:57:22.077669Z',\n",
       "  'owner': 1,\n",
       "  'modules': [{'order': 0, 'title': 'Module 1', 'description': ''},\n",
       "   {'order': 1, 'title': 'Module 2', 'description': ''},\n",
       "   {'order': 5, 'title': 'Module 3', 'description': ''},\n",
       "   {'order': 6, 'title': 'Module 4', 'description': ''}]}]"
      ]
     },
     "execution_count": 4,
     "metadata": {},
     "output_type": "execute_result"
    }
   ],
   "source": [
    "r.json()"
   ]
  },
  {
   "cell_type": "code",
   "execution_count": 6,
   "metadata": {},
   "outputs": [],
   "source": [
    "courses = r.json()"
   ]
  },
  {
   "cell_type": "code",
   "execution_count": 7,
   "metadata": {},
   "outputs": [],
   "source": [
    "available_courses = ', '.join([course['title'] for course in courses])"
   ]
  },
  {
   "cell_type": "code",
   "execution_count": 8,
   "metadata": {},
   "outputs": [
    {
     "name": "stdout",
     "output_type": "stream",
     "text": [
      "Available courses: Django course, Course 2, Course 1\n"
     ]
    }
   ],
   "source": [
    "print(f'Available courses: {available_courses}')"
   ]
  },
  {
   "cell_type": "code",
   "execution_count": null,
   "metadata": {},
   "outputs": [],
   "source": []
  },
  {
   "cell_type": "code",
   "execution_count": 9,
   "metadata": {},
   "outputs": [],
   "source": [
    "username = 'testuser2'\n",
    "password = 'testpassword2'"
   ]
  },
  {
   "cell_type": "code",
   "execution_count": 10,
   "metadata": {},
   "outputs": [
    {
     "name": "stdout",
     "output_type": "stream",
     "text": [
      "Successfully enrolled in Django course\n",
      "Successfully enrolled in Course 2\n",
      "Successfully enrolled in Course 1\n"
     ]
    }
   ],
   "source": [
    "for course in courses:\n",
    "    \n",
    "    course_id = course['id']\n",
    "    course_title = course['title']\n",
    "    \n",
    "    r = requests.post(f'{base_url}courses/{course_id}/enroll/',\n",
    "                      \n",
    "    auth=(username, password))\n",
    "    \n",
    "    if r.status_code == 200:\n",
    "    \n",
    "        # successful request\n",
    "        print(f'Successfully enrolled in {course_title}')"
   ]
  },
  {
   "cell_type": "code",
   "execution_count": null,
   "metadata": {},
   "outputs": [],
   "source": []
  }
 ],
 "metadata": {
  "kernelspec": {
   "display_name": "Python 3",
   "language": "python",
   "name": "python3"
  },
  "language_info": {
   "codemirror_mode": {
    "name": "ipython",
    "version": 3
   },
   "file_extension": ".py",
   "mimetype": "text/x-python",
   "name": "python",
   "nbconvert_exporter": "python",
   "pygments_lexer": "ipython3",
   "version": "3.6.9"
  }
 },
 "nbformat": 4,
 "nbformat_minor": 4
}
