{
 "cells": [
  {
   "cell_type": "code",
   "execution_count": 1,
   "metadata": {},
   "outputs": [],
   "source": [
    "import requests"
   ]
  },
  {
   "cell_type": "code",
   "execution_count": 7,
   "metadata": {},
   "outputs": [],
   "source": [
    "from IPython.core.display import display, HTML"
   ]
  },
  {
   "cell_type": "code",
   "execution_count": null,
   "metadata": {},
   "outputs": [],
   "source": []
  },
  {
   "cell_type": "markdown",
   "metadata": {},
   "source": [
    "## Get without cookies"
   ]
  },
  {
   "cell_type": "code",
   "execution_count": 2,
   "metadata": {},
   "outputs": [],
   "source": [
    "r = requests.get(\"http://127.0.0.1:8000\")"
   ]
  },
  {
   "cell_type": "code",
   "execution_count": 3,
   "metadata": {},
   "outputs": [
    {
     "data": {
      "text/plain": [
       "<Response [200]>"
      ]
     },
     "execution_count": 3,
     "metadata": {},
     "output_type": "execute_result"
    }
   ],
   "source": [
    "r"
   ]
  },
  {
   "cell_type": "code",
   "execution_count": 5,
   "metadata": {},
   "outputs": [
    {
     "data": {
      "text/plain": [
       "{'Date': 'Thu, 10 Sep 2020 08:08:39 GMT', 'Server': 'WSGIServer/0.2 CPython/3.6.9', 'Content-Type': 'text/html; charset=utf-8', 'X-Frame-Options': 'DENY', 'Content-Length': '2337', 'Vary': 'Cookie', 'X-Content-Type-Options': 'nosniff'}"
      ]
     },
     "execution_count": 5,
     "metadata": {},
     "output_type": "execute_result"
    }
   ],
   "source": [
    "r.headers"
   ]
  },
  {
   "cell_type": "code",
   "execution_count": 9,
   "metadata": {},
   "outputs": [
    {
     "name": "stdout",
     "output_type": "stream",
     "text": [
      "\n",
      "\n",
      "<!DOCTYPE html>\n",
      "<html>\n",
      "<head>\n",
      "  <meta charset=\"utf-8\" />\n",
      "  <title>\n",
      "  \n",
      "    All courses\n",
      "  \n",
      "</title>\n",
      "  <link href=\"/static/css/base.css\" rel=\"stylesheet\">\n",
      "</head>\n",
      "<body>\n",
      "  <div id=\"header\">\n",
      "    <a href=\"/\" class=\"logo\">Educa</a>\n",
      "    <ul class=\"menu\">\n",
      "      \n",
      "        <li><a href=\"/accounts/login/\">Sign in</a></li>\n",
      "      \n",
      "    </ul>\n",
      "  </div>\n",
      "  <div id=\"content\">\n",
      "    \n",
      "  <h1>\n",
      "    \n",
      "      All courses\n",
      "    \n",
      "  </h1>\n",
      "  <div class=\"contents\">\n",
      "    <h3>Subjects</h3>\n",
      "    <ul id=\"modules\">\n",
      "      <li class=\"selected\">\n",
      "        <a href=\"/\">All</a>\n",
      "      </li>\n",
      "      \n",
      "        <li >\n",
      "          <a href=\"/course/subject/mathematics/\">\n",
      "            Mathematics\n",
      "            <br><span>0 courses</span>\n",
      "          </a>\n",
      "        </li>\n",
      "      \n",
      "        <li >\n",
      "          <a href=\"/course/subject/music/\">\n",
      "            Music\n",
      "            <br><span>0 courses</span>\n",
      "          </a>\n",
      "        </li>\n",
      "      \n",
      "        <li >\n",
      "          <a href=\"/course/subject/physics/\">\n",
      "            Physics\n",
      "            <br><span>0 courses</span>\n",
      "          </a>\n",
      "        </li>\n",
      "      \n",
      "        <li >\n",
      "          <a href=\"/course/subject/programming/\">\n",
      "            Programming\n",
      "            <br><span>3 courses</span>\n",
      "          </a>\n",
      "        </li>\n",
      "      \n",
      "    </ul>\n",
      "  </div>\n",
      "  <div class=\"module\">\n",
      "    \n",
      "      \n",
      "        <h3>\n",
      "          <a href=\"/course/django-course/\">\n",
      "            Django course\n",
      "          </a>\n",
      "        </h3>\n",
      "        <p>\n",
      "          <a href=\"/course/subject/programming/\">Programming</a>.\n",
      "            2 modules.\n",
      "            Instructor: Mike Stephenson\n",
      "        </p>\n",
      "      \n",
      "    \n",
      "      \n",
      "        <h3>\n",
      "          <a href=\"/course/course2/\">\n",
      "            Course 2\n",
      "          </a>\n",
      "        </h3>\n",
      "        <p>\n",
      "          <a href=\"/course/subject/programming/\">Programming</a>.\n",
      "            1 modules.\n",
      "            Instructor: \n",
      "        </p>\n",
      "      \n",
      "    \n",
      "      \n",
      "        <h3>\n",
      "          <a href=\"/course/course1/\">\n",
      "            Course 1\n",
      "          </a>\n",
      "        </h3>\n",
      "        <p>\n",
      "          <a href=\"/course/subject/programming/\">Programming</a>.\n",
      "            4 modules.\n",
      "            Instructor: \n",
      "        </p>\n",
      "      \n",
      "    \n",
      "  </div>\n",
      "\n",
      "  </div>\n",
      "\n",
      "  <script src=\"https://ajax.googleapis.com/ajax/libs/jquery/3.4.1/jquery.min.js\"></script>\n",
      "  <script src=\"https://ajax.googleapis.com/ajax/libs/jqueryui/1.12.1/jquery-ui.min.js\"></script>\n",
      "  <script>\n",
      "    $(document).ready(function() {\n",
      "      \n",
      "      \n",
      "    });\n",
      "  </script>\n",
      "</body>\n",
      "</html>\n"
     ]
    }
   ],
   "source": [
    "print(r.text)"
   ]
  },
  {
   "cell_type": "code",
   "execution_count": 8,
   "metadata": {},
   "outputs": [
    {
     "data": {
      "text/html": [
       "\n",
       "\n",
       "<!DOCTYPE html>\n",
       "<html>\n",
       "<head>\n",
       "  <meta charset=\"utf-8\" />\n",
       "  <title>\n",
       "  \n",
       "    All courses\n",
       "  \n",
       "</title>\n",
       "  <link href=\"/static/css/base.css\" rel=\"stylesheet\">\n",
       "</head>\n",
       "<body>\n",
       "  <div id=\"header\">\n",
       "    <a href=\"/\" class=\"logo\">Educa</a>\n",
       "    <ul class=\"menu\">\n",
       "      \n",
       "        <li><a href=\"/accounts/login/\">Sign in</a></li>\n",
       "      \n",
       "    </ul>\n",
       "  </div>\n",
       "  <div id=\"content\">\n",
       "    \n",
       "  <h1>\n",
       "    \n",
       "      All courses\n",
       "    \n",
       "  </h1>\n",
       "  <div class=\"contents\">\n",
       "    <h3>Subjects</h3>\n",
       "    <ul id=\"modules\">\n",
       "      <li class=\"selected\">\n",
       "        <a href=\"/\">All</a>\n",
       "      </li>\n",
       "      \n",
       "        <li >\n",
       "          <a href=\"/course/subject/mathematics/\">\n",
       "            Mathematics\n",
       "            <br><span>0 courses</span>\n",
       "          </a>\n",
       "        </li>\n",
       "      \n",
       "        <li >\n",
       "          <a href=\"/course/subject/music/\">\n",
       "            Music\n",
       "            <br><span>0 courses</span>\n",
       "          </a>\n",
       "        </li>\n",
       "      \n",
       "        <li >\n",
       "          <a href=\"/course/subject/physics/\">\n",
       "            Physics\n",
       "            <br><span>0 courses</span>\n",
       "          </a>\n",
       "        </li>\n",
       "      \n",
       "        <li >\n",
       "          <a href=\"/course/subject/programming/\">\n",
       "            Programming\n",
       "            <br><span>3 courses</span>\n",
       "          </a>\n",
       "        </li>\n",
       "      \n",
       "    </ul>\n",
       "  </div>\n",
       "  <div class=\"module\">\n",
       "    \n",
       "      \n",
       "        <h3>\n",
       "          <a href=\"/course/django-course/\">\n",
       "            Django course\n",
       "          </a>\n",
       "        </h3>\n",
       "        <p>\n",
       "          <a href=\"/course/subject/programming/\">Programming</a>.\n",
       "            2 modules.\n",
       "            Instructor: Mike Stephenson\n",
       "        </p>\n",
       "      \n",
       "    \n",
       "      \n",
       "        <h3>\n",
       "          <a href=\"/course/course2/\">\n",
       "            Course 2\n",
       "          </a>\n",
       "        </h3>\n",
       "        <p>\n",
       "          <a href=\"/course/subject/programming/\">Programming</a>.\n",
       "            1 modules.\n",
       "            Instructor: \n",
       "        </p>\n",
       "      \n",
       "    \n",
       "      \n",
       "        <h3>\n",
       "          <a href=\"/course/course1/\">\n",
       "            Course 1\n",
       "          </a>\n",
       "        </h3>\n",
       "        <p>\n",
       "          <a href=\"/course/subject/programming/\">Programming</a>.\n",
       "            4 modules.\n",
       "            Instructor: \n",
       "        </p>\n",
       "      \n",
       "    \n",
       "  </div>\n",
       "\n",
       "  </div>\n",
       "\n",
       "  <script src=\"https://ajax.googleapis.com/ajax/libs/jquery/3.4.1/jquery.min.js\"></script>\n",
       "  <script src=\"https://ajax.googleapis.com/ajax/libs/jqueryui/1.12.1/jquery-ui.min.js\"></script>\n",
       "  <script>\n",
       "    $(document).ready(function() {\n",
       "      \n",
       "      \n",
       "    });\n",
       "  </script>\n",
       "</body>\n",
       "</html>"
      ],
      "text/plain": [
       "<IPython.core.display.HTML object>"
      ]
     },
     "metadata": {},
     "output_type": "display_data"
    }
   ],
   "source": [
    "display(HTML(r.text))"
   ]
  },
  {
   "cell_type": "code",
   "execution_count": 12,
   "metadata": {},
   "outputs": [
    {
     "data": {
      "text/plain": [
       "{'User-Agent': 'python-requests/2.24.0', 'Accept-Encoding': 'gzip, deflate', 'Accept': '*/*', 'Connection': 'keep-alive'}"
      ]
     },
     "execution_count": 12,
     "metadata": {},
     "output_type": "execute_result"
    }
   ],
   "source": [
    "r.request.headers"
   ]
  },
  {
   "cell_type": "code",
   "execution_count": 13,
   "metadata": {},
   "outputs": [
    {
     "data": {
      "text/plain": [
       "'http://127.0.0.1:8000/'"
      ]
     },
     "execution_count": 13,
     "metadata": {},
     "output_type": "execute_result"
    }
   ],
   "source": [
    "r.request.url"
   ]
  },
  {
   "cell_type": "code",
   "execution_count": 16,
   "metadata": {},
   "outputs": [
    {
     "data": {
      "text/plain": [
       "'GET'"
      ]
     },
     "execution_count": 16,
     "metadata": {},
     "output_type": "execute_result"
    }
   ],
   "source": [
    "r.request.method"
   ]
  },
  {
   "cell_type": "code",
   "execution_count": 19,
   "metadata": {},
   "outputs": [
    {
     "data": {
      "text/plain": [
       "<RequestsCookieJar[]>"
      ]
     },
     "execution_count": 19,
     "metadata": {},
     "output_type": "execute_result"
    }
   ],
   "source": [
    "r.cookies"
   ]
  },
  {
   "cell_type": "code",
   "execution_count": null,
   "metadata": {},
   "outputs": [],
   "source": []
  },
  {
   "cell_type": "markdown",
   "metadata": {},
   "source": [
    "### Get with cookies"
   ]
  },
  {
   "cell_type": "code",
   "execution_count": 130,
   "metadata": {},
   "outputs": [],
   "source": [
    "cookies = {'csrftoken' : 'oPf7TxgvMQg5TBxjV6pxkikANYhvsxH6ZppQmdOeUraFzJRwql5MAFIt2BNVwCuZ',\n",
    "        'sessionid' : 'zlw4ph4fupjg60qjefrslr0bowmj30xp'\n",
    "        }"
   ]
  },
  {
   "cell_type": "code",
   "execution_count": 131,
   "metadata": {},
   "outputs": [],
   "source": [
    "r2 = requests.get(\"http://127.0.0.1:8000\", cookies=cookies)"
   ]
  },
  {
   "cell_type": "code",
   "execution_count": 132,
   "metadata": {},
   "outputs": [
    {
     "data": {
      "text/plain": [
       "<Response [200]>"
      ]
     },
     "execution_count": 132,
     "metadata": {},
     "output_type": "execute_result"
    }
   ],
   "source": [
    "r2"
   ]
  },
  {
   "cell_type": "code",
   "execution_count": 133,
   "metadata": {},
   "outputs": [
    {
     "data": {
      "text/html": [
       "\n",
       "\n",
       "<!DOCTYPE html>\n",
       "<html>\n",
       "<head>\n",
       "  <meta charset=\"utf-8\" />\n",
       "  <title>\n",
       "  \n",
       "    All courses\n",
       "  \n",
       "</title>\n",
       "  <link href=\"/static/css/base.css\" rel=\"stylesheet\">\n",
       "</head>\n",
       "<body>\n",
       "  <div id=\"header\">\n",
       "    <a href=\"/\" class=\"logo\">Educa</a>\n",
       "    <ul class=\"menu\">\n",
       "      \n",
       "        <li><a href=\"/accounts/logout/\">Sign out</a></li>\n",
       "      \n",
       "    </ul>\n",
       "  </div>\n",
       "  <div id=\"content\">\n",
       "    \n",
       "  <h1>\n",
       "    \n",
       "      All courses\n",
       "    \n",
       "  </h1>\n",
       "  <div class=\"contents\">\n",
       "    <h3>Subjects</h3>\n",
       "    <ul id=\"modules\">\n",
       "      <li class=\"selected\">\n",
       "        <a href=\"/\">All</a>\n",
       "      </li>\n",
       "      \n",
       "        <li >\n",
       "          <a href=\"/course/subject/mathematics/\">\n",
       "            Mathematics\n",
       "            <br><span>0 courses</span>\n",
       "          </a>\n",
       "        </li>\n",
       "      \n",
       "        <li >\n",
       "          <a href=\"/course/subject/music/\">\n",
       "            Music\n",
       "            <br><span>0 courses</span>\n",
       "          </a>\n",
       "        </li>\n",
       "      \n",
       "        <li >\n",
       "          <a href=\"/course/subject/physics/\">\n",
       "            Physics\n",
       "            <br><span>0 courses</span>\n",
       "          </a>\n",
       "        </li>\n",
       "      \n",
       "        <li >\n",
       "          <a href=\"/course/subject/programming/\">\n",
       "            Programming\n",
       "            <br><span>3 courses</span>\n",
       "          </a>\n",
       "        </li>\n",
       "      \n",
       "    </ul>\n",
       "  </div>\n",
       "  <div class=\"module\">\n",
       "    \n",
       "      \n",
       "        <h3>\n",
       "          <a href=\"/course/django-course/\">\n",
       "            Django course\n",
       "          </a>\n",
       "        </h3>\n",
       "        <p>\n",
       "          <a href=\"/course/subject/programming/\">Programming</a>.\n",
       "            2 modules.\n",
       "            Instructor: Mike Stephenson\n",
       "        </p>\n",
       "      \n",
       "    \n",
       "      \n",
       "        <h3>\n",
       "          <a href=\"/course/course2/\">\n",
       "            Course 2\n",
       "          </a>\n",
       "        </h3>\n",
       "        <p>\n",
       "          <a href=\"/course/subject/programming/\">Programming</a>.\n",
       "            1 modules.\n",
       "            Instructor: \n",
       "        </p>\n",
       "      \n",
       "    \n",
       "      \n",
       "        <h3>\n",
       "          <a href=\"/course/course1/\">\n",
       "            Course 1\n",
       "          </a>\n",
       "        </h3>\n",
       "        <p>\n",
       "          <a href=\"/course/subject/programming/\">Programming</a>.\n",
       "            4 modules.\n",
       "            Instructor: \n",
       "        </p>\n",
       "      \n",
       "    \n",
       "  </div>\n",
       "\n",
       "  </div>\n",
       "\n",
       "  <script src=\"https://ajax.googleapis.com/ajax/libs/jquery/3.4.1/jquery.min.js\"></script>\n",
       "  <script src=\"https://ajax.googleapis.com/ajax/libs/jqueryui/1.12.1/jquery-ui.min.js\"></script>\n",
       "  <script>\n",
       "    $(document).ready(function() {\n",
       "      \n",
       "      \n",
       "    });\n",
       "  </script>\n",
       "</body>\n",
       "</html>"
      ],
      "text/plain": [
       "<IPython.core.display.HTML object>"
      ]
     },
     "metadata": {},
     "output_type": "display_data"
    }
   ],
   "source": [
    "display(HTML(r2.text))"
   ]
  },
  {
   "cell_type": "code",
   "execution_count": null,
   "metadata": {},
   "outputs": [],
   "source": []
  },
  {
   "cell_type": "markdown",
   "metadata": {},
   "source": [
    "### Login  get"
   ]
  },
  {
   "cell_type": "code",
   "execution_count": 42,
   "metadata": {},
   "outputs": [],
   "source": [
    "r3 = requests.get(\"http://127.0.0.1:8000/accounts/login/\")"
   ]
  },
  {
   "cell_type": "code",
   "execution_count": 43,
   "metadata": {},
   "outputs": [
    {
     "data": {
      "text/plain": [
       "<Response [200]>"
      ]
     },
     "execution_count": 43,
     "metadata": {},
     "output_type": "execute_result"
    }
   ],
   "source": [
    "r3"
   ]
  },
  {
   "cell_type": "code",
   "execution_count": 44,
   "metadata": {},
   "outputs": [
    {
     "data": {
      "text/plain": [
       "<RequestsCookieJar[Cookie(version=0, name='csrftoken', value='EIboUxbrTzm44PJVEPnYAqLQhJHdkM8If3LG2kIxqFQXu3VQb0mciG9SNpmRKhMu', port=None, port_specified=False, domain='127.0.0.1', domain_specified=False, domain_initial_dot=False, path='/', path_specified=True, secure=False, expires=1631176743, discard=False, comment=None, comment_url=None, rest={'SameSite': 'Lax'}, rfc2109=False)]>"
      ]
     },
     "execution_count": 44,
     "metadata": {},
     "output_type": "execute_result"
    }
   ],
   "source": [
    "r3.cookies"
   ]
  },
  {
   "cell_type": "code",
   "execution_count": 45,
   "metadata": {},
   "outputs": [
    {
     "name": "stdout",
     "output_type": "stream",
     "text": [
      "{'Date': 'Thu, 10 Sep 2020 08:39:03 GMT', 'Server': 'WSGIServer/0.2 CPython/3.6.9', 'Content-Type': 'text/html; charset=utf-8', 'Expires': 'Thu, 10 Sep 2020 08:39:03 GMT', 'Cache-Control': 'max-age=0, no-cache, no-store, must-revalidate, private', 'Vary': 'Cookie', 'X-Frame-Options': 'DENY', 'Content-Length': '1439', 'X-Content-Type-Options': 'nosniff', 'Set-Cookie': 'csrftoken=EIboUxbrTzm44PJVEPnYAqLQhJHdkM8If3LG2kIxqFQXu3VQb0mciG9SNpmRKhMu; expires=Thu, 09 Sep 2021 08:39:03 GMT; Max-Age=31449600; Path=/; SameSite=Lax'}\n"
     ]
    }
   ],
   "source": [
    "print(r3.headers)"
   ]
  },
  {
   "cell_type": "code",
   "execution_count": 46,
   "metadata": {},
   "outputs": [
    {
     "data": {
      "text/plain": [
       "'\\n\\n<!DOCTYPE html>\\n<html>\\n<head>\\n  <meta charset=\"utf-8\" />\\n  <title>Log-in</title>\\n  <link href=\"/static/css/base.css\" rel=\"stylesheet\">\\n</head>\\n<body>\\n  <div id=\"header\">\\n    <a href=\"/\" class=\"logo\">Educa</a>\\n    <ul class=\"menu\">\\n      \\n        <li><a href=\"/accounts/login/\">Sign in</a></li>\\n      \\n    </ul>\\n  </div>\\n  <div id=\"content\">\\n    \\n  <h1>Log-in</h1>\\n  <div class=\"module\">\\n    \\n      <p>Please, use the following form to log-in:</p>\\n    \\n    <div class=\"login-form\">\\n      <form action=\"/accounts/login/\" method=\"post\">\\n        <p><label for=\"id_username\">Username:</label> <input type=\"text\" name=\"username\" autofocus autocapitalize=\"none\" autocomplete=\"username\" maxlength=\"150\" required id=\"id_username\"></p>\\n<p><label for=\"id_password\">Password:</label> <input type=\"password\" name=\"password\" autocomplete=\"current-password\" required id=\"id_password\"></p>\\n        <input type=\"hidden\" name=\"csrfmiddlewaretoken\" value=\"pjwHmh3Qiqwq4g0AyHcVZIwlltNSGRp40E6Zu4AWPw0juucv5Sb9HYUnR9sw6m3Q\">\\n        <input type=\"hidden\" name=\"next\" value=\"\" />\\n        <p><input type=\"submit\" value=\"Log-in\"></p>\\n      </form>\\n    </div>\\n  </div>\\n\\n  </div>\\n\\n  <script src=\"https://ajax.googleapis.com/ajax/libs/jquery/3.4.1/jquery.min.js\"></script>\\n  <script src=\"https://ajax.googleapis.com/ajax/libs/jqueryui/1.12.1/jquery-ui.min.js\"></script>\\n  <script>\\n    $(document).ready(function() {\\n      \\n      \\n    });\\n  </script>\\n</body>\\n</html>'"
      ]
     },
     "execution_count": 46,
     "metadata": {},
     "output_type": "execute_result"
    }
   ],
   "source": [
    "r3.text"
   ]
  },
  {
   "cell_type": "code",
   "execution_count": 38,
   "metadata": {},
   "outputs": [
    {
     "data": {
      "text/html": [
       "\n",
       "\n",
       "<!DOCTYPE html>\n",
       "<html>\n",
       "<head>\n",
       "  <meta charset=\"utf-8\" />\n",
       "  <title>Log-in</title>\n",
       "  <link href=\"/static/css/base.css\" rel=\"stylesheet\">\n",
       "</head>\n",
       "<body>\n",
       "  <div id=\"header\">\n",
       "    <a href=\"/\" class=\"logo\">Educa</a>\n",
       "    <ul class=\"menu\">\n",
       "      \n",
       "        <li><a href=\"/accounts/login/\">Sign in</a></li>\n",
       "      \n",
       "    </ul>\n",
       "  </div>\n",
       "  <div id=\"content\">\n",
       "    \n",
       "  <h1>Log-in</h1>\n",
       "  <div class=\"module\">\n",
       "    \n",
       "      <p>Please, use the following form to log-in:</p>\n",
       "    \n",
       "    <div class=\"login-form\">\n",
       "      <form action=\"/accounts/login/\" method=\"post\">\n",
       "        <p><label for=\"id_username\">Username:</label> <input type=\"text\" name=\"username\" autofocus autocapitalize=\"none\" autocomplete=\"username\" maxlength=\"150\" required id=\"id_username\"></p>\n",
       "<p><label for=\"id_password\">Password:</label> <input type=\"password\" name=\"password\" autocomplete=\"current-password\" required id=\"id_password\"></p>\n",
       "        <input type=\"hidden\" name=\"csrfmiddlewaretoken\" value=\"qax63JY9Ml7EtcIkqaaM4XJf5ejVE4v3LYjQSjBUsuWE8XeJwqhO7bk91hHkslK1\">\n",
       "        <input type=\"hidden\" name=\"next\" value=\"\" />\n",
       "        <p><input type=\"submit\" value=\"Log-in\"></p>\n",
       "      </form>\n",
       "    </div>\n",
       "  </div>\n",
       "\n",
       "  </div>\n",
       "\n",
       "  <script src=\"https://ajax.googleapis.com/ajax/libs/jquery/3.4.1/jquery.min.js\"></script>\n",
       "  <script src=\"https://ajax.googleapis.com/ajax/libs/jqueryui/1.12.1/jquery-ui.min.js\"></script>\n",
       "  <script>\n",
       "    $(document).ready(function() {\n",
       "      \n",
       "      \n",
       "    });\n",
       "  </script>\n",
       "</body>\n",
       "</html>"
      ],
      "text/plain": [
       "<IPython.core.display.HTML object>"
      ]
     },
     "metadata": {},
     "output_type": "display_data"
    }
   ],
   "source": [
    "display(HTML(r3.text))"
   ]
  },
  {
   "cell_type": "code",
   "execution_count": null,
   "metadata": {},
   "outputs": [],
   "source": []
  },
  {
   "cell_type": "markdown",
   "metadata": {},
   "source": [
    "### Login post"
   ]
  },
  {
   "cell_type": "code",
   "execution_count": 94,
   "metadata": {},
   "outputs": [],
   "source": [
    "form_data = {\n",
    "    \n",
    "    'username' : 'testuser3',\n",
    "    'password' : 'testpassword3',\n",
    "    'csrfmiddlewaretoken' : 'pjwHmh3Qiqwq4g0AyHcVZIwlltNSGRp40E6Zu4AWPw0juucv5Sb9HYUnR9sw6m3Q',\n",
    "    'next' : '/'\n",
    "}"
   ]
  },
  {
   "cell_type": "code",
   "execution_count": 95,
   "metadata": {},
   "outputs": [],
   "source": [
    "cookies = {'csrftoken' : 'EIboUxbrTzm44PJVEPnYAqLQhJHdkM8If3LG2kIxqFQXu3VQb0mciG9SNpmRKhMu'\n",
    "        }"
   ]
  },
  {
   "cell_type": "code",
   "execution_count": 109,
   "metadata": {},
   "outputs": [],
   "source": [
    "r4 = requests.post(\"http://127.0.0.1:8000/accounts/login/\", data=form_data, cookies=cookies, allow_redirects=False)"
   ]
  },
  {
   "cell_type": "code",
   "execution_count": 110,
   "metadata": {},
   "outputs": [
    {
     "data": {
      "text/plain": [
       "<Response [302]>"
      ]
     },
     "execution_count": 110,
     "metadata": {},
     "output_type": "execute_result"
    }
   ],
   "source": [
    "r4"
   ]
  },
  {
   "cell_type": "code",
   "execution_count": 112,
   "metadata": {},
   "outputs": [
    {
     "data": {
      "text/plain": [
       "''"
      ]
     },
     "execution_count": 112,
     "metadata": {},
     "output_type": "execute_result"
    }
   ],
   "source": [
    "r4.text"
   ]
  },
  {
   "cell_type": "code",
   "execution_count": 113,
   "metadata": {},
   "outputs": [
    {
     "data": {
      "text/html": [],
      "text/plain": [
       "<IPython.core.display.HTML object>"
      ]
     },
     "metadata": {},
     "output_type": "display_data"
    }
   ],
   "source": [
    "display(HTML(r4.text))"
   ]
  },
  {
   "cell_type": "code",
   "execution_count": 116,
   "metadata": {},
   "outputs": [
    {
     "data": {
      "text/plain": [
       "<RequestsCookieJar[Cookie(version=0, name='csrftoken', value='oPf7TxgvMQg5TBxjV6pxkikANYhvsxH6ZppQmdOeUraFzJRwql5MAFIt2BNVwCuZ', port=None, port_specified=False, domain='127.0.0.1', domain_specified=False, domain_initial_dot=False, path='/', path_specified=True, secure=False, expires=1631178214, discard=False, comment=None, comment_url=None, rest={'SameSite': 'Lax'}, rfc2109=False), Cookie(version=0, name='sessionid', value='zlw4ph4fupjg60qjefrslr0bowmj30xp', port=None, port_specified=False, domain='127.0.0.1', domain_specified=False, domain_initial_dot=False, path='/', path_specified=True, secure=False, expires=1600938214, discard=False, comment=None, comment_url=None, rest={'HttpOnly': None, 'SameSite': 'Lax'}, rfc2109=False)]>"
      ]
     },
     "execution_count": 116,
     "metadata": {},
     "output_type": "execute_result"
    }
   ],
   "source": [
    "r4.cookies"
   ]
  },
  {
   "cell_type": "code",
   "execution_count": 117,
   "metadata": {},
   "outputs": [
    {
     "data": {
      "text/plain": [
       "{'Date': 'Thu, 10 Sep 2020 09:03:34 GMT', 'Server': 'WSGIServer/0.2 CPython/3.6.9', 'Content-Type': 'text/html; charset=utf-8', 'Location': '/', 'Expires': 'Thu, 10 Sep 2020 09:03:34 GMT', 'Cache-Control': 'max-age=0, no-cache, no-store, must-revalidate, private', 'Vary': 'Cookie', 'X-Frame-Options': 'DENY', 'Content-Length': '0', 'X-Content-Type-Options': 'nosniff', 'Set-Cookie': 'csrftoken=oPf7TxgvMQg5TBxjV6pxkikANYhvsxH6ZppQmdOeUraFzJRwql5MAFIt2BNVwCuZ; expires=Thu, 09 Sep 2021 09:03:34 GMT; Max-Age=31449600; Path=/; SameSite=Lax, sessionid=zlw4ph4fupjg60qjefrslr0bowmj30xp; expires=Thu, 24 Sep 2020 09:03:34 GMT; HttpOnly; Max-Age=1209600; Path=/; SameSite=Lax'}"
      ]
     },
     "execution_count": 117,
     "metadata": {},
     "output_type": "execute_result"
    }
   ],
   "source": [
    "r4.headers"
   ]
  },
  {
   "cell_type": "code",
   "execution_count": 118,
   "metadata": {},
   "outputs": [
    {
     "data": {
      "text/plain": [
       "{'User-Agent': 'python-requests/2.24.0', 'Accept-Encoding': 'gzip, deflate', 'Accept': '*/*', 'Connection': 'keep-alive', 'Cookie': 'csrftoken=EIboUxbrTzm44PJVEPnYAqLQhJHdkM8If3LG2kIxqFQXu3VQb0mciG9SNpmRKhMu', 'Content-Length': '135', 'Content-Type': 'application/x-www-form-urlencoded'}"
      ]
     },
     "execution_count": 118,
     "metadata": {},
     "output_type": "execute_result"
    }
   ],
   "source": [
    "r4.request.headers"
   ]
  },
  {
   "cell_type": "code",
   "execution_count": 119,
   "metadata": {},
   "outputs": [
    {
     "data": {
      "text/plain": [
       "'POST'"
      ]
     },
     "execution_count": 119,
     "metadata": {},
     "output_type": "execute_result"
    }
   ],
   "source": [
    "r4.request.method"
   ]
  },
  {
   "cell_type": "code",
   "execution_count": 120,
   "metadata": {},
   "outputs": [
    {
     "data": {
      "text/plain": [
       "'http://127.0.0.1:8000/accounts/login/'"
      ]
     },
     "execution_count": 120,
     "metadata": {},
     "output_type": "execute_result"
    }
   ],
   "source": [
    "r4.url"
   ]
  },
  {
   "cell_type": "code",
   "execution_count": 121,
   "metadata": {},
   "outputs": [
    {
     "data": {
      "text/plain": [
       "'http://127.0.0.1:8000/accounts/login/'"
      ]
     },
     "execution_count": 121,
     "metadata": {},
     "output_type": "execute_result"
    }
   ],
   "source": [
    "r4.request.url"
   ]
  },
  {
   "cell_type": "code",
   "execution_count": null,
   "metadata": {},
   "outputs": [],
   "source": []
  }
 ],
 "metadata": {
  "kernelspec": {
   "display_name": "Python 3",
   "language": "python",
   "name": "python3"
  },
  "language_info": {
   "codemirror_mode": {
    "name": "ipython",
    "version": 3
   },
   "file_extension": ".py",
   "mimetype": "text/x-python",
   "name": "python",
   "nbconvert_exporter": "python",
   "pygments_lexer": "ipython3",
   "version": "3.6.9"
  }
 },
 "nbformat": 4,
 "nbformat_minor": 4
}
