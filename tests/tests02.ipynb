{
 "cells": [
  {
   "cell_type": "code",
   "execution_count": 1,
   "metadata": {},
   "outputs": [],
   "source": [
    "import requests"
   ]
  },
  {
   "cell_type": "code",
   "execution_count": 25,
   "metadata": {},
   "outputs": [],
   "source": [
    "from IPython.core.display import display, HTML"
   ]
  },
  {
   "cell_type": "code",
   "execution_count": null,
   "metadata": {},
   "outputs": [],
   "source": []
  },
  {
   "cell_type": "code",
   "execution_count": 2,
   "metadata": {},
   "outputs": [],
   "source": [
    "r = requests.get('http://127.0.0.1:8000/api/subjects/')"
   ]
  },
  {
   "cell_type": "code",
   "execution_count": 3,
   "metadata": {},
   "outputs": [
    {
     "data": {
      "text/plain": [
       "<Response [200]>"
      ]
     },
     "execution_count": 3,
     "metadata": {},
     "output_type": "execute_result"
    }
   ],
   "source": [
    "r"
   ]
  },
  {
   "cell_type": "code",
   "execution_count": 5,
   "metadata": {},
   "outputs": [
    {
     "data": {
      "text/plain": [
       "[{'id': 1, 'title': 'Mathematics', 'slug': 'mathematics'},\n",
       " {'id': 2, 'title': 'Music', 'slug': 'music'},\n",
       " {'id': 3, 'title': 'Physics', 'slug': 'physics'},\n",
       " {'id': 4, 'title': 'Programming', 'slug': 'programming'}]"
      ]
     },
     "execution_count": 5,
     "metadata": {},
     "output_type": "execute_result"
    }
   ],
   "source": [
    "r.json()"
   ]
  },
  {
   "cell_type": "code",
   "execution_count": 6,
   "metadata": {},
   "outputs": [
    {
     "data": {
      "text/plain": [
       "{'Date': 'Fri, 11 Sep 2020 10:00:16 GMT', 'Server': 'WSGIServer/0.2 CPython/3.6.9', 'Content-Type': 'application/json', 'Vary': 'Accept, Cookie', 'Allow': 'GET, HEAD, OPTIONS', 'X-Frame-Options': 'DENY', 'Content-Length': '189', 'X-Content-Type-Options': 'nosniff'}"
      ]
     },
     "execution_count": 6,
     "metadata": {},
     "output_type": "execute_result"
    }
   ],
   "source": [
    "r.headers"
   ]
  },
  {
   "cell_type": "code",
   "execution_count": 7,
   "metadata": {},
   "outputs": [
    {
     "data": {
      "text/plain": [
       "'[{\"id\":1,\"title\":\"Mathematics\",\"slug\":\"mathematics\"},{\"id\":2,\"title\":\"Music\",\"slug\":\"music\"},{\"id\":3,\"title\":\"Physics\",\"slug\":\"physics\"},{\"id\":4,\"title\":\"Programming\",\"slug\":\"programming\"}]'"
      ]
     },
     "execution_count": 7,
     "metadata": {},
     "output_type": "execute_result"
    }
   ],
   "source": [
    "r.text"
   ]
  },
  {
   "cell_type": "code",
   "execution_count": 9,
   "metadata": {},
   "outputs": [
    {
     "data": {
      "text/plain": [
       "<RequestsCookieJar[]>"
      ]
     },
     "execution_count": 9,
     "metadata": {},
     "output_type": "execute_result"
    }
   ],
   "source": [
    "r.cookies"
   ]
  },
  {
   "cell_type": "code",
   "execution_count": null,
   "metadata": {},
   "outputs": [],
   "source": []
  },
  {
   "cell_type": "code",
   "execution_count": 10,
   "metadata": {},
   "outputs": [],
   "source": [
    "r = requests.get('http://127.0.0.1:8000/api/subjects/2')"
   ]
  },
  {
   "cell_type": "code",
   "execution_count": 11,
   "metadata": {},
   "outputs": [
    {
     "data": {
      "text/plain": [
       "<Response [200]>"
      ]
     },
     "execution_count": 11,
     "metadata": {},
     "output_type": "execute_result"
    }
   ],
   "source": [
    "r"
   ]
  },
  {
   "cell_type": "code",
   "execution_count": 13,
   "metadata": {},
   "outputs": [
    {
     "data": {
      "text/plain": [
       "{'id': 2, 'title': 'Music', 'slug': 'music'}"
      ]
     },
     "execution_count": 13,
     "metadata": {},
     "output_type": "execute_result"
    }
   ],
   "source": [
    "r.json()"
   ]
  },
  {
   "cell_type": "code",
   "execution_count": 14,
   "metadata": {},
   "outputs": [
    {
     "data": {
      "text/plain": [
       "{'User-Agent': 'python-requests/2.24.0', 'Accept-Encoding': 'gzip, deflate', 'Accept': '*/*', 'Connection': 'keep-alive'}"
      ]
     },
     "execution_count": 14,
     "metadata": {},
     "output_type": "execute_result"
    }
   ],
   "source": [
    "r.request.headers"
   ]
  },
  {
   "cell_type": "code",
   "execution_count": null,
   "metadata": {},
   "outputs": [],
   "source": []
  },
  {
   "cell_type": "code",
   "execution_count": 20,
   "metadata": {},
   "outputs": [],
   "source": [
    "headers = {\n",
    "    'User-Agent': 'Mozilla/5.0 (X11; Ubuntu; Linux x86_64; rv:80.0) Gecko/20100101 Firefox/80.0',\n",
    "    'Accept': 'text/html,application/xhtml+xml,application/xml;q=0.9,image/webp,*/*;q=0.8'\n",
    "    \n",
    "}"
   ]
  },
  {
   "cell_type": "code",
   "execution_count": 21,
   "metadata": {},
   "outputs": [],
   "source": [
    "r2 = requests.get('http://127.0.0.1:8000/api/subjects/2', headers=headers)"
   ]
  },
  {
   "cell_type": "code",
   "execution_count": 22,
   "metadata": {},
   "outputs": [
    {
     "data": {
      "text/plain": [
       "<Response [200]>"
      ]
     },
     "execution_count": 22,
     "metadata": {},
     "output_type": "execute_result"
    }
   ],
   "source": [
    "r2"
   ]
  },
  {
   "cell_type": "code",
   "execution_count": 23,
   "metadata": {},
   "outputs": [
    {
     "data": {
      "text/plain": [
       "'\\n\\n\\n\\n<!DOCTYPE html>\\n<html>\\n  <head>\\n    \\n\\n      \\n        <meta http-equiv=\"Content-Type\" content=\"text/html; charset=utf-8\"/>\\n        <meta name=\"robots\" content=\"NONE,NOARCHIVE\" />\\n      \\n\\n      <title>Subject Detail – Django REST framework</title>\\n\\n      \\n        \\n          <link rel=\"stylesheet\" type=\"text/css\" href=\"/static/rest_framework/css/bootstrap.min.css\"/>\\n          <link rel=\"stylesheet\" type=\"text/css\" href=\"/static/rest_framework/css/bootstrap-tweaks.css\"/>\\n        \\n\\n        <link rel=\"stylesheet\" type=\"text/css\" href=\"/static/rest_framework/css/prettify.css\"/>\\n        <link rel=\"stylesheet\" type=\"text/css\" href=\"/static/rest_framework/css/default.css\"/>\\n        <style>.highlight .hll { background-color: #ffffcc }\\n.highlight  { background: #f8f8f8; }\\n.highlight .c { color: #008800; font-style: italic } /* Comment */\\n.highlight .err { border: 1px solid #FF0000 } /* Error */\\n.highlight .k { color: #AA22FF; font-weight: bold } /* Keyword */\\n.highlight .o { color: #666666 } /* Operator */\\n.highlight .ch { color: #008800; font-style: italic } /* Comment.Hashbang */\\n.highlight .cm { color: #008800; font-style: italic } /* Comment.Multiline */\\n.highlight .cp { color: #008800 } /* Comment.Preproc */\\n.highlight .cpf { color: #008800; font-style: italic } /* Comment.PreprocFile */\\n.highlight .c1 { color: #008800; font-style: italic } /* Comment.Single */\\n.highlight .cs { color: #008800; font-weight: bold } /* Comment.Special */\\n.highlight .gd { color: #A00000 } /* Generic.Deleted */\\n.highlight .ge { font-style: italic } /* Generic.Emph */\\n.highlight .gr { color: #FF0000 } /* Generic.Error */\\n.highlight .gh { color: #000080; font-weight: bold } /* Generic.Heading */\\n.highlight .gi { color: #00A000 } /* Generic.Inserted */\\n.highlight .go { color: #888888 } /* Generic.Output */\\n.highlight .gp { color: #000080; font-weight: bold } /* Generic.Prompt */\\n.highlight .gs { font-weight: bold } /* Generic.Strong */\\n.highlight .gu { color: #800080; font-weight: bold } /* Generic.Subheading */\\n.highlight .gt { color: #0044DD } /* Generic.Traceback */\\n.highlight .kc { color: #AA22FF; font-weight: bold } /* Keyword.Constant */\\n.highlight .kd { color: #AA22FF; font-weight: bold } /* Keyword.Declaration */\\n.highlight .kn { color: #AA22FF; font-weight: bold } /* Keyword.Namespace */\\n.highlight .kp { color: #AA22FF } /* Keyword.Pseudo */\\n.highlight .kr { color: #AA22FF; font-weight: bold } /* Keyword.Reserved */\\n.highlight .kt { color: #00BB00; font-weight: bold } /* Keyword.Type */\\n.highlight .m { color: #666666 } /* Literal.Number */\\n.highlight .s { color: #BB4444 } /* Literal.String */\\n.highlight .na { color: #BB4444 } /* Name.Attribute */\\n.highlight .nb { color: #AA22FF } /* Name.Builtin */\\n.highlight .nc { color: #0000FF } /* Name.Class */\\n.highlight .no { color: #880000 } /* Name.Constant */\\n.highlight .nd { color: #AA22FF } /* Name.Decorator */\\n.highlight .ni { color: #999999; font-weight: bold } /* Name.Entity */\\n.highlight .ne { color: #D2413A; font-weight: bold } /* Name.Exception */\\n.highlight .nf { color: #00A000 } /* Name.Function */\\n.highlight .nl { color: #A0A000 } /* Name.Label */\\n.highlight .nn { color: #0000FF; font-weight: bold } /* Name.Namespace */\\n.highlight .nt { color: #008000; font-weight: bold } /* Name.Tag */\\n.highlight .nv { color: #B8860B } /* Name.Variable */\\n.highlight .ow { color: #AA22FF; font-weight: bold } /* Operator.Word */\\n.highlight .w { color: #bbbbbb } /* Text.Whitespace */\\n.highlight .mb { color: #666666 } /* Literal.Number.Bin */\\n.highlight .mf { color: #666666 } /* Literal.Number.Float */\\n.highlight .mh { color: #666666 } /* Literal.Number.Hex */\\n.highlight .mi { color: #666666 } /* Literal.Number.Integer */\\n.highlight .mo { color: #666666 } /* Literal.Number.Oct */\\n.highlight .sa { color: #BB4444 } /* Literal.String.Affix */\\n.highlight .sb { color: #BB4444 } /* Literal.String.Backtick */\\n.highlight .sc { color: #BB4444 } /* Literal.String.Char */\\n.highlight .dl { color: #BB4444 } /* Literal.String.Delimiter */\\n.highlight .sd { color: #BB4444; font-style: italic } /* Literal.String.Doc */\\n.highlight .s2 { color: #BB4444 } /* Literal.String.Double */\\n.highlight .se { color: #BB6622; font-weight: bold } /* Literal.String.Escape */\\n.highlight .sh { color: #BB4444 } /* Literal.String.Heredoc */\\n.highlight .si { color: #BB6688; font-weight: bold } /* Literal.String.Interpol */\\n.highlight .sx { color: #008000 } /* Literal.String.Other */\\n.highlight .sr { color: #BB6688 } /* Literal.String.Regex */\\n.highlight .s1 { color: #BB4444 } /* Literal.String.Single */\\n.highlight .ss { color: #B8860B } /* Literal.String.Symbol */\\n.highlight .bp { color: #AA22FF } /* Name.Builtin.Pseudo */\\n.highlight .fm { color: #00A000 } /* Name.Function.Magic */\\n.highlight .vc { color: #B8860B } /* Name.Variable.Class */\\n.highlight .vg { color: #B8860B } /* Name.Variable.Global */\\n.highlight .vi { color: #B8860B } /* Name.Variable.Instance */\\n.highlight .vm { color: #B8860B } /* Name.Variable.Magic */\\n.highlight .il { color: #666666 } /* Literal.Number.Integer.Long */</style>\\n      \\n\\n    \\n  </head>\\n\\n  \\n  <body class=\"\">\\n\\n    <div class=\"wrapper\">\\n      \\n        <div class=\"navbar navbar-static-top navbar-inverse\"\\n             role=\"navigation\" aria-label=\"navbar\">\\n          <div class=\"container\">\\n            <span>\\n              \\n                <a class=\\'navbar-brand\\' rel=\"nofollow\" href=\\'https://www.django-rest-framework.org/\\'>\\n                    Django REST framework\\n                </a>\\n              \\n            </span>\\n            <ul class=\"nav navbar-nav pull-right\">\\n              \\n                \\n                  \\n                \\n              \\n            </ul>\\n          </div>\\n        </div>\\n      \\n\\n      <div class=\"container\">\\n        \\n          <ul class=\"breadcrumb\">\\n            \\n              \\n                <li><a href=\"/api/subjects/\">Subject List</a></li>\\n              \\n            \\n              \\n                <li class=\"active\"><a href=\"/api/subjects/2/\">Subject Detail</a></li>\\n              \\n            \\n          </ul>\\n        \\n\\n        <!-- Content -->\\n        <div id=\"content\" role=\"main\" aria-label=\"content\">\\n          \\n\\n          <div class=\"region\"  aria-label=\"request form\">\\n          \\n          \\n          \\n            <form id=\"get-form\" class=\"pull-right\">\\n              <fieldset>\\n                \\n                  <div class=\"btn-group format-selection\">\\n                    <a class=\"btn btn-primary js-tooltip\" href=\"/api/subjects/2/\" rel=\"nofollow\" title=\"Make a GET request on the Subject Detail resource\">GET</a>\\n\\n                    <button class=\"btn btn-primary dropdown-toggle js-tooltip\" data-toggle=\"dropdown\" title=\"Specify a format for the GET request\">\\n                      <span class=\"caret\"></span>\\n                    </button>\\n                    <ul class=\"dropdown-menu\">\\n                      \\n                        <li>\\n                          <a class=\"js-tooltip format-option\" href=\"/api/subjects/2/?format=json\" rel=\"nofollow\" title=\"Make a GET request on the Subject Detail resource with the format set to `json`\">json</a>\\n                        </li>\\n                      \\n                        <li>\\n                          <a class=\"js-tooltip format-option\" href=\"/api/subjects/2/?format=api\" rel=\"nofollow\" title=\"Make a GET request on the Subject Detail resource with the format set to `api`\">api</a>\\n                        </li>\\n                      \\n                    </ul>\\n                  </div>\\n                \\n              </fieldset>\\n            </form>\\n          \\n\\n          \\n            <form class=\"button-form\" action=\"/api/subjects/2/\" data-method=\"OPTIONS\">\\n              <button class=\"btn btn-primary js-tooltip\" title=\"Make an OPTIONS request on the Subject Detail resource\">OPTIONS</button>\\n            </form>\\n          \\n\\n          \\n\\n          \\n\\n          \\n\\n          \\n          </div>\\n\\n            <div class=\"content-main\" role=\"main\"  aria-label=\"main content\">\\n              <div class=\"page-header\">\\n                <h1>Subject Detail</h1>\\n              </div>\\n              <div style=\"float:left\">\\n                \\n                  \\n                \\n              </div>\\n\\n              \\n\\n              <div class=\"request-info\" style=\"clear: both\" aria-label=\"request info\">\\n                <pre class=\"prettyprint\"><b>GET</b> /api/subjects/2/</pre>\\n              </div>\\n\\n              <div class=\"response-info\" aria-label=\"response info\">\\n                <pre class=\"prettyprint\"><span class=\"meta nocode\"><b>HTTP 200 OK</b>\\n<b>Allow:</b> <span class=\"lit\">GET, HEAD, OPTIONS</span>\\n<b>Content-Type:</b> <span class=\"lit\">application/json</span>\\n<b>Vary:</b> <span class=\"lit\">Accept</span>\\n\\n</span>{\\n    &quot;id&quot;: 2,\\n    &quot;title&quot;: &quot;Music&quot;,\\n    &quot;slug&quot;: &quot;music&quot;\\n}</pre>\\n              </div>\\n            </div>\\n\\n            \\n              \\n\\n              \\n            \\n          \\n        </div><!-- /.content -->\\n      </div><!-- /.container -->\\n    </div><!-- ./wrapper -->\\n\\n    \\n\\n    \\n      <script>\\n        window.drf = {\\n          csrfHeaderName: \"X-CSRFTOKEN\",\\n          csrfToken: \"0uuOsuDFZZX4oTsj8WdqWZemjxLtKcAxIdbu4zC0gPQ4hwbs8XdADPCP233RyvET\"\\n        };\\n      </script>\\n      <script src=\"/static/rest_framework/js/jquery-3.4.1.min.js\"></script>\\n      <script src=\"/static/rest_framework/js/ajax-form.js\"></script>\\n      <script src=\"/static/rest_framework/js/csrf.js\"></script>\\n      <script src=\"/static/rest_framework/js/bootstrap.min.js\"></script>\\n      <script src=\"/static/rest_framework/js/prettify-min.js\"></script>\\n      <script src=\"/static/rest_framework/js/default.js\"></script>\\n      <script>\\n        $(document).ready(function() {\\n          $(\\'form\\').ajaxForm();\\n        });\\n      </script>\\n    \\n\\n  </body>\\n  \\n</html>\\n'"
      ]
     },
     "execution_count": 23,
     "metadata": {},
     "output_type": "execute_result"
    }
   ],
   "source": [
    "r2.text"
   ]
  },
  {
   "cell_type": "code",
   "execution_count": 24,
   "metadata": {},
   "outputs": [
    {
     "data": {
      "text/plain": [
       "{'User-Agent': 'Mozilla/5.0 (X11; Ubuntu; Linux x86_64; rv:80.0) Gecko/20100101 Firefox/80.0', 'Accept-Encoding': 'gzip, deflate', 'Accept': 'text/html,application/xhtml+xml,application/xml;q=0.9,image/webp,*/*;q=0.8', 'Connection': 'keep-alive'}"
      ]
     },
     "execution_count": 24,
     "metadata": {},
     "output_type": "execute_result"
    }
   ],
   "source": [
    "r2.request.headers"
   ]
  },
  {
   "cell_type": "code",
   "execution_count": 26,
   "metadata": {},
   "outputs": [
    {
     "data": {
      "text/html": [
       "\n",
       "\n",
       "\n",
       "\n",
       "<!DOCTYPE html>\n",
       "<html>\n",
       "  <head>\n",
       "    \n",
       "\n",
       "      \n",
       "        <meta http-equiv=\"Content-Type\" content=\"text/html; charset=utf-8\"/>\n",
       "        <meta name=\"robots\" content=\"NONE,NOARCHIVE\" />\n",
       "      \n",
       "\n",
       "      <title>Subject Detail – Django REST framework</title>\n",
       "\n",
       "      \n",
       "        \n",
       "          <link rel=\"stylesheet\" type=\"text/css\" href=\"/static/rest_framework/css/bootstrap.min.css\"/>\n",
       "          <link rel=\"stylesheet\" type=\"text/css\" href=\"/static/rest_framework/css/bootstrap-tweaks.css\"/>\n",
       "        \n",
       "\n",
       "        <link rel=\"stylesheet\" type=\"text/css\" href=\"/static/rest_framework/css/prettify.css\"/>\n",
       "        <link rel=\"stylesheet\" type=\"text/css\" href=\"/static/rest_framework/css/default.css\"/>\n",
       "        <style>.highlight .hll { background-color: #ffffcc }\n",
       ".highlight  { background: #f8f8f8; }\n",
       ".highlight .c { color: #008800; font-style: italic } /* Comment */\n",
       ".highlight .err { border: 1px solid #FF0000 } /* Error */\n",
       ".highlight .k { color: #AA22FF; font-weight: bold } /* Keyword */\n",
       ".highlight .o { color: #666666 } /* Operator */\n",
       ".highlight .ch { color: #008800; font-style: italic } /* Comment.Hashbang */\n",
       ".highlight .cm { color: #008800; font-style: italic } /* Comment.Multiline */\n",
       ".highlight .cp { color: #008800 } /* Comment.Preproc */\n",
       ".highlight .cpf { color: #008800; font-style: italic } /* Comment.PreprocFile */\n",
       ".highlight .c1 { color: #008800; font-style: italic } /* Comment.Single */\n",
       ".highlight .cs { color: #008800; font-weight: bold } /* Comment.Special */\n",
       ".highlight .gd { color: #A00000 } /* Generic.Deleted */\n",
       ".highlight .ge { font-style: italic } /* Generic.Emph */\n",
       ".highlight .gr { color: #FF0000 } /* Generic.Error */\n",
       ".highlight .gh { color: #000080; font-weight: bold } /* Generic.Heading */\n",
       ".highlight .gi { color: #00A000 } /* Generic.Inserted */\n",
       ".highlight .go { color: #888888 } /* Generic.Output */\n",
       ".highlight .gp { color: #000080; font-weight: bold } /* Generic.Prompt */\n",
       ".highlight .gs { font-weight: bold } /* Generic.Strong */\n",
       ".highlight .gu { color: #800080; font-weight: bold } /* Generic.Subheading */\n",
       ".highlight .gt { color: #0044DD } /* Generic.Traceback */\n",
       ".highlight .kc { color: #AA22FF; font-weight: bold } /* Keyword.Constant */\n",
       ".highlight .kd { color: #AA22FF; font-weight: bold } /* Keyword.Declaration */\n",
       ".highlight .kn { color: #AA22FF; font-weight: bold } /* Keyword.Namespace */\n",
       ".highlight .kp { color: #AA22FF } /* Keyword.Pseudo */\n",
       ".highlight .kr { color: #AA22FF; font-weight: bold } /* Keyword.Reserved */\n",
       ".highlight .kt { color: #00BB00; font-weight: bold } /* Keyword.Type */\n",
       ".highlight .m { color: #666666 } /* Literal.Number */\n",
       ".highlight .s { color: #BB4444 } /* Literal.String */\n",
       ".highlight .na { color: #BB4444 } /* Name.Attribute */\n",
       ".highlight .nb { color: #AA22FF } /* Name.Builtin */\n",
       ".highlight .nc { color: #0000FF } /* Name.Class */\n",
       ".highlight .no { color: #880000 } /* Name.Constant */\n",
       ".highlight .nd { color: #AA22FF } /* Name.Decorator */\n",
       ".highlight .ni { color: #999999; font-weight: bold } /* Name.Entity */\n",
       ".highlight .ne { color: #D2413A; font-weight: bold } /* Name.Exception */\n",
       ".highlight .nf { color: #00A000 } /* Name.Function */\n",
       ".highlight .nl { color: #A0A000 } /* Name.Label */\n",
       ".highlight .nn { color: #0000FF; font-weight: bold } /* Name.Namespace */\n",
       ".highlight .nt { color: #008000; font-weight: bold } /* Name.Tag */\n",
       ".highlight .nv { color: #B8860B } /* Name.Variable */\n",
       ".highlight .ow { color: #AA22FF; font-weight: bold } /* Operator.Word */\n",
       ".highlight .w { color: #bbbbbb } /* Text.Whitespace */\n",
       ".highlight .mb { color: #666666 } /* Literal.Number.Bin */\n",
       ".highlight .mf { color: #666666 } /* Literal.Number.Float */\n",
       ".highlight .mh { color: #666666 } /* Literal.Number.Hex */\n",
       ".highlight .mi { color: #666666 } /* Literal.Number.Integer */\n",
       ".highlight .mo { color: #666666 } /* Literal.Number.Oct */\n",
       ".highlight .sa { color: #BB4444 } /* Literal.String.Affix */\n",
       ".highlight .sb { color: #BB4444 } /* Literal.String.Backtick */\n",
       ".highlight .sc { color: #BB4444 } /* Literal.String.Char */\n",
       ".highlight .dl { color: #BB4444 } /* Literal.String.Delimiter */\n",
       ".highlight .sd { color: #BB4444; font-style: italic } /* Literal.String.Doc */\n",
       ".highlight .s2 { color: #BB4444 } /* Literal.String.Double */\n",
       ".highlight .se { color: #BB6622; font-weight: bold } /* Literal.String.Escape */\n",
       ".highlight .sh { color: #BB4444 } /* Literal.String.Heredoc */\n",
       ".highlight .si { color: #BB6688; font-weight: bold } /* Literal.String.Interpol */\n",
       ".highlight .sx { color: #008000 } /* Literal.String.Other */\n",
       ".highlight .sr { color: #BB6688 } /* Literal.String.Regex */\n",
       ".highlight .s1 { color: #BB4444 } /* Literal.String.Single */\n",
       ".highlight .ss { color: #B8860B } /* Literal.String.Symbol */\n",
       ".highlight .bp { color: #AA22FF } /* Name.Builtin.Pseudo */\n",
       ".highlight .fm { color: #00A000 } /* Name.Function.Magic */\n",
       ".highlight .vc { color: #B8860B } /* Name.Variable.Class */\n",
       ".highlight .vg { color: #B8860B } /* Name.Variable.Global */\n",
       ".highlight .vi { color: #B8860B } /* Name.Variable.Instance */\n",
       ".highlight .vm { color: #B8860B } /* Name.Variable.Magic */\n",
       ".highlight .il { color: #666666 } /* Literal.Number.Integer.Long */</style>\n",
       "      \n",
       "\n",
       "    \n",
       "  </head>\n",
       "\n",
       "  \n",
       "  <body class=\"\">\n",
       "\n",
       "    <div class=\"wrapper\">\n",
       "      \n",
       "        <div class=\"navbar navbar-static-top navbar-inverse\"\n",
       "             role=\"navigation\" aria-label=\"navbar\">\n",
       "          <div class=\"container\">\n",
       "            <span>\n",
       "              \n",
       "                <a class='navbar-brand' rel=\"nofollow\" href='https://www.django-rest-framework.org/'>\n",
       "                    Django REST framework\n",
       "                </a>\n",
       "              \n",
       "            </span>\n",
       "            <ul class=\"nav navbar-nav pull-right\">\n",
       "              \n",
       "                \n",
       "                  \n",
       "                \n",
       "              \n",
       "            </ul>\n",
       "          </div>\n",
       "        </div>\n",
       "      \n",
       "\n",
       "      <div class=\"container\">\n",
       "        \n",
       "          <ul class=\"breadcrumb\">\n",
       "            \n",
       "              \n",
       "                <li><a href=\"/api/subjects/\">Subject List</a></li>\n",
       "              \n",
       "            \n",
       "              \n",
       "                <li class=\"active\"><a href=\"/api/subjects/2/\">Subject Detail</a></li>\n",
       "              \n",
       "            \n",
       "          </ul>\n",
       "        \n",
       "\n",
       "        <!-- Content -->\n",
       "        <div id=\"content\" role=\"main\" aria-label=\"content\">\n",
       "          \n",
       "\n",
       "          <div class=\"region\"  aria-label=\"request form\">\n",
       "          \n",
       "          \n",
       "          \n",
       "            <form id=\"get-form\" class=\"pull-right\">\n",
       "              <fieldset>\n",
       "                \n",
       "                  <div class=\"btn-group format-selection\">\n",
       "                    <a class=\"btn btn-primary js-tooltip\" href=\"/api/subjects/2/\" rel=\"nofollow\" title=\"Make a GET request on the Subject Detail resource\">GET</a>\n",
       "\n",
       "                    <button class=\"btn btn-primary dropdown-toggle js-tooltip\" data-toggle=\"dropdown\" title=\"Specify a format for the GET request\">\n",
       "                      <span class=\"caret\"></span>\n",
       "                    </button>\n",
       "                    <ul class=\"dropdown-menu\">\n",
       "                      \n",
       "                        <li>\n",
       "                          <a class=\"js-tooltip format-option\" href=\"/api/subjects/2/?format=json\" rel=\"nofollow\" title=\"Make a GET request on the Subject Detail resource with the format set to `json`\">json</a>\n",
       "                        </li>\n",
       "                      \n",
       "                        <li>\n",
       "                          <a class=\"js-tooltip format-option\" href=\"/api/subjects/2/?format=api\" rel=\"nofollow\" title=\"Make a GET request on the Subject Detail resource with the format set to `api`\">api</a>\n",
       "                        </li>\n",
       "                      \n",
       "                    </ul>\n",
       "                  </div>\n",
       "                \n",
       "              </fieldset>\n",
       "            </form>\n",
       "          \n",
       "\n",
       "          \n",
       "            <form class=\"button-form\" action=\"/api/subjects/2/\" data-method=\"OPTIONS\">\n",
       "              <button class=\"btn btn-primary js-tooltip\" title=\"Make an OPTIONS request on the Subject Detail resource\">OPTIONS</button>\n",
       "            </form>\n",
       "          \n",
       "\n",
       "          \n",
       "\n",
       "          \n",
       "\n",
       "          \n",
       "\n",
       "          \n",
       "          </div>\n",
       "\n",
       "            <div class=\"content-main\" role=\"main\"  aria-label=\"main content\">\n",
       "              <div class=\"page-header\">\n",
       "                <h1>Subject Detail</h1>\n",
       "              </div>\n",
       "              <div style=\"float:left\">\n",
       "                \n",
       "                  \n",
       "                \n",
       "              </div>\n",
       "\n",
       "              \n",
       "\n",
       "              <div class=\"request-info\" style=\"clear: both\" aria-label=\"request info\">\n",
       "                <pre class=\"prettyprint\"><b>GET</b> /api/subjects/2/</pre>\n",
       "              </div>\n",
       "\n",
       "              <div class=\"response-info\" aria-label=\"response info\">\n",
       "                <pre class=\"prettyprint\"><span class=\"meta nocode\"><b>HTTP 200 OK</b>\n",
       "<b>Allow:</b> <span class=\"lit\">GET, HEAD, OPTIONS</span>\n",
       "<b>Content-Type:</b> <span class=\"lit\">application/json</span>\n",
       "<b>Vary:</b> <span class=\"lit\">Accept</span>\n",
       "\n",
       "</span>{\n",
       "    &quot;id&quot;: 2,\n",
       "    &quot;title&quot;: &quot;Music&quot;,\n",
       "    &quot;slug&quot;: &quot;music&quot;\n",
       "}</pre>\n",
       "              </div>\n",
       "            </div>\n",
       "\n",
       "            \n",
       "              \n",
       "\n",
       "              \n",
       "            \n",
       "          \n",
       "        </div><!-- /.content -->\n",
       "      </div><!-- /.container -->\n",
       "    </div><!-- ./wrapper -->\n",
       "\n",
       "    \n",
       "\n",
       "    \n",
       "      <script>\n",
       "        window.drf = {\n",
       "          csrfHeaderName: \"X-CSRFTOKEN\",\n",
       "          csrfToken: \"0uuOsuDFZZX4oTsj8WdqWZemjxLtKcAxIdbu4zC0gPQ4hwbs8XdADPCP233RyvET\"\n",
       "        };\n",
       "      </script>\n",
       "      <script src=\"/static/rest_framework/js/jquery-3.4.1.min.js\"></script>\n",
       "      <script src=\"/static/rest_framework/js/ajax-form.js\"></script>\n",
       "      <script src=\"/static/rest_framework/js/csrf.js\"></script>\n",
       "      <script src=\"/static/rest_framework/js/bootstrap.min.js\"></script>\n",
       "      <script src=\"/static/rest_framework/js/prettify-min.js\"></script>\n",
       "      <script src=\"/static/rest_framework/js/default.js\"></script>\n",
       "      <script>\n",
       "        $(document).ready(function() {\n",
       "          $('form').ajaxForm();\n",
       "        });\n",
       "      </script>\n",
       "    \n",
       "\n",
       "  </body>\n",
       "  \n",
       "</html>\n"
      ],
      "text/plain": [
       "<IPython.core.display.HTML object>"
      ]
     },
     "metadata": {},
     "output_type": "display_data"
    }
   ],
   "source": [
    "display(HTML(r2.text))"
   ]
  },
  {
   "cell_type": "code",
   "execution_count": null,
   "metadata": {},
   "outputs": [],
   "source": []
  }
 ],
 "metadata": {
  "kernelspec": {
   "display_name": "Python 3",
   "language": "python",
   "name": "python3"
  },
  "language_info": {
   "codemirror_mode": {
    "name": "ipython",
    "version": 3
   },
   "file_extension": ".py",
   "mimetype": "text/x-python",
   "name": "python",
   "nbconvert_exporter": "python",
   "pygments_lexer": "ipython3",
   "version": "3.6.9"
  }
 },
 "nbformat": 4,
 "nbformat_minor": 4
}
